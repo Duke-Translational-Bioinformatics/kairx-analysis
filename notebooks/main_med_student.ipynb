{
 "cells": [
  {
   "cell_type": "markdown",
   "metadata": {},
   "source": [
    "# KaiRx Insights: Med Student Study\n",
    "--------\n",
    "Initially, the study was run using responses from 122 medical students. Two platforms were used to test the hypothesis that a more visual EHR interface would lead to quicker more accurate chart reviews. These two platforms were [Qualtrics](https://www.qualtrics.com) and [Optimizely](https://www.optimizely.com)."
   ]
  },
  {
   "cell_type": "markdown",
   "metadata": {
    "collapsed": true
   },
   "source": [
    "## Table of Contents\n",
    "--------\n",
    "- Qualtrics Analysis\n",
    "    - [Clinical Questionaire](med_student_qualtrics_cq.ipynb)\n",
    "    - [Usability Survey](med_student_qualtrics_use.ipynb)\n",
    "- [Optimizely Analysis](med_student_optimizely.ipynb)\n",
    "- [Statistics Overview](#so)"
   ]
  },
  {
   "cell_type": "markdown",
   "metadata": {
    "collapsed": true
   },
   "source": [
    "<a id='so'></a>\n",
    "## Statistics Overiew\n",
    "-----\n",
    "The goal of this study is to identify which questions differ between the two \"arms\" of the study (i.e. control and intervention). There is a tradeoff between identifying differences and the \"cost\" to do so. In each of the referenced notebooks above, each question will be compared between the two arms in several meaningful ways:\n",
    "\n",
    "- With a bar chart provide a visualization that compares the control and intervention arms\n",
    "- [Derive a metric with confidence interval for the question](#dmci)\n",
    "- Pretend we're in a sequential estimation situation and show how the CI trends downward with more individuals"
   ]
  },
  {
   "cell_type": "markdown",
   "metadata": {},
   "source": [
    "<a id='dmci'></a>\n",
    "### Derive a metric with confidence interval for the question\n",
    "---------\n",
    "There are 3 types of questions in each of the surveys. They correspond to the following categories:\n",
    "\n",
    "- [binary](#bin)\n",
    "- [multinomial](#mult)\n",
    "- [multiple choice](#choice)\n"
   ]
  },
  {
   "cell_type": "markdown",
   "metadata": {},
   "source": [
    "<a id='bin'></a>\n",
    "#### binary\n",
    "-----\n",
    "*These types of questions will **only** contain two possible answers and **users can only choose one answer**.*\n",
    "\n",
    ">##### Methodology\n",
    ">>###### Metric-of-Interest: $\\hat{p_{1}}-\\hat{p_{2}}$\n",
    ">Because one of the interests with using Optimizely was to run an experiment without calculating power size calculations and one of the questions posed was \"we need to determine how much more data we need to collect and/or how essential it will be to collect more data\". I propose using the following hypothesis on all binomial tests:\n",
    "\n",
    "$$H_{0}:\\hat{p_{1}}=\\hat{p_{2}}$$\n",
    "\n",
    ">>This corresponds to calculating the metric of interest $\\hat{p_{1}}-\\hat{p_{2}}$. We will derive a stopping rule that, when met, indicates a level of significance has been met and the study may stop.\n",
    ">>###### Stopping Rule\n",
    ">>In this project, we intend to use [sequential hypothesis testing](https://en.wikipedia.org/wiki/Sequential_analysis), as such, we need to define an approporiate stopping rule to determine when to stop the study. For the binomial/bernoulli questions, we will follow a similar technique as [demonstrated here](http://auduno.com/post/106141177173/rapid-ab-testing-with-sequential-analysis)"
   ]
  },
  {
   "cell_type": "markdown",
   "metadata": {},
   "source": [
    "<a id='mult'></a>\n",
    "#### multinomial\n",
    "------\n",
    "*These types of questions will contain **more than 2** possible answers and **users can only choose one answer**.*\n",
    "\n",
    ">##### Methodology\n",
    "TBD"
   ]
  },
  {
   "cell_type": "markdown",
   "metadata": {},
   "source": [
    "<a id='choice'></a>\n",
    "#### multiple choice\n",
    "--------\n",
    "*These types of questions will contain **more than 2** possible answers and **users CAN choose more than one answer**.*\n",
    "\n",
    ">##### Methodology\n",
    "TBD, but probably just like multinomial. This means $2^k$ possible categories where k is the possible answers. This will lead to a very sparse answer matrix, so we'll need to keep that in mind."
   ]
  },
  {
   "cell_type": "code",
   "execution_count": null,
   "metadata": {
    "collapsed": true
   },
   "outputs": [],
   "source": []
  }
 ],
 "metadata": {
  "kernelspec": {
   "display_name": "Python 3",
   "language": "python",
   "name": "python3"
  },
  "language_info": {
   "codemirror_mode": {
    "name": "ipython",
    "version": 3
   },
   "file_extension": ".py",
   "mimetype": "text/x-python",
   "name": "python",
   "nbconvert_exporter": "python",
   "pygments_lexer": "ipython3",
   "version": "3.5.1"
  },
  "widgets": {
   "state": {},
   "version": "1.1.2"
  }
 },
 "nbformat": 4,
 "nbformat_minor": 0
}
