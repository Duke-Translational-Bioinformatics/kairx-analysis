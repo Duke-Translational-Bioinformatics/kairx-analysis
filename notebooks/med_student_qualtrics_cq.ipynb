{
 "cells": [
  {
   "cell_type": "markdown",
   "metadata": {},
   "source": [
    "# Med Student Qualtrics Results - Clinical Questionaire\n",
    "------\n",
    "The clinical questionaire is comprised of 3 tasks (Diabetes, Hypertension, Depression) and 21 questions. There are several ways to begin analyzing the data set:\n",
    "\n",
    "- [Individual-Question Comparisons](#iqc)\n"
   ]
  },
  {
   "cell_type": "markdown",
   "metadata": {},
   "source": [
    "<a id='iqc'></a>\n",
    "### Individual-Question Comparisons\n",
    "---------\n",
    "The survey was comprised of the following questions, which, on an individual level can be used to compare control and intervention:\n",
    "\n",
    "- Diabetes  \n",
    "    - [*Multinomial* 1. Which medication(s) is the patient currently taking for diabetes?](#d1)\n",
    "    - [*Multinomial* 2. How long has he been taking his diabetes medication(s)?](#d2)\n",
    "    - [*Multinomial* 3. Has he been compliant with his diabetes medication? How do you know?](#d3)\n",
    "    - [*Binomial* 4. You ask him about his diabetes medications and you can trust](#d4)\n",
    "    - [*Multinomial* 5. You see that he is currently on this maximum dose. You are wondering how recently](#d5)\n",
    "    - [*Multinomial* 6. You realize that he has already taken the maximum dose of metformin for awhile](#d6)\n",
    "    - [*Multinomial* 7. What was the starting dose of allopurinol prescribed for Mr. Smith?](#d7)\n",
    "    - [*Multinomial* 8. Who prescribed his last refill of allopurinol?](#d8)\n",
    "    - [*Multinomial* 9. You see a prescription but wonder if he picked up his last prescription allopurinol.](#d9)\n",
    "    - [*Multiple Choice* 10. He did not pick up his last allopurinol prescription at the pharmacy.](#d10)\n",
    "    - [*Multinomial* 11. After asking the patient about his gout, he explains](#d11)\n",
    "- Hypertension\n",
    "    - [*Multinomial* 1. Mr. Smith was diagnosed with hypertension 20 years ago.](#h1)\n",
    "    - [*Multinomial* 2. The patient’s blood pressure did not decrease in the 3 years after he](#h2)\n",
    "    - [*Multinomial* 3. Over time, Mr. Smith’s blood pressure still continued to increase](#h3)\n",
    "    - [*Multinomial* 4. What do you suspect happened with his new antihypertensive regimen](#h4)\n",
    "    - [*Multinomial* 5. Despite Mr. Smith’s diligent adherence to his exercise and diet](#h5)\n",
    "- Depression\n",
    "    - [*Multiple Choice* 1. You continue with your check-up. The patient has](#de1)\n",
    "    - [*Multiple Choice* 2. Which drugs have been escalated in dose at least twice?](#de2)\n",
    "    - [*Multinomial* 3. You ask Mr. Smith about the details of his depression medication changes](#de3)\n",
    "    - [*Multinomial* 4. You’d like to know what date that provider changed the medication so you](#de4)\n",
    "    - [*Multinomial* 5. Why do you think the provider chose bupropion to prescribe in 2006?](#de5)"
   ]
  },
  {
   "cell_type": "code",
   "execution_count": null,
   "metadata": {
    "collapsed": true
   },
   "outputs": [],
   "source": []
  }
 ],
 "metadata": {
  "kernelspec": {
   "display_name": "Python 3",
   "language": "python",
   "name": "python3"
  },
  "language_info": {
   "codemirror_mode": {
    "name": "ipython",
    "version": 3
   },
   "file_extension": ".py",
   "mimetype": "text/x-python",
   "name": "python",
   "nbconvert_exporter": "python",
   "pygments_lexer": "ipython3",
   "version": "3.5.1"
  },
  "widgets": {
   "state": {},
   "version": "1.1.2"
  }
 },
 "nbformat": 4,
 "nbformat_minor": 0
}
