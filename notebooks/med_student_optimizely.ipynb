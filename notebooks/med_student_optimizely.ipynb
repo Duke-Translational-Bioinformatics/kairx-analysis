{
 "cells": [
  {
   "cell_type": "markdown",
   "metadata": {},
   "source": [
    "# Optimizely Results\n",
    "We downloaded the results from optimizely. This notebook's purpose is to verify those captured results and also perform statistical testing."
   ]
  },
  {
   "cell_type": "code",
   "execution_count": 11,
   "metadata": {},
   "outputs": [],
   "source": [
    "import pandas as pd\n",
    "intervention = pd.read_table('./med_student_materials/optimizely_data/6260120514.txt',\n",
    "                            dtype={'user_id':'object',})\n",
    "control = pd.read_table('./med_student_materials/optimizely_data/6281421834.txt',\n",
    "                            dtype={'user_id':'object',})"
   ]
  },
  {
   "cell_type": "markdown",
   "metadata": {},
   "source": [
    "## Note\n",
    "Above, I'm not sure how to map control and intervention to the two text files **Manoj**, can you help with this mapping?"
   ]
  },
  {
   "cell_type": "markdown",
   "metadata": {},
   "source": [
    "## Number of unique users available in each arm. \n",
    "Note, I use the terms control and intervention, but they may change depending on question posed above"
   ]
  },
  {
   "cell_type": "code",
   "execution_count": 7,
   "metadata": {},
   "outputs": [
    {
     "name": "stdout",
     "output_type": "stream",
     "text": [
      "Control Optimizely users N=(62)\n",
      "Intervention Optimizely users N=(70)\n"
     ]
    }
   ],
   "source": [
    "print('Control Optimizely users N=(' + str(len(control['user_id'].unique())) + ')')\n",
    "print('Intervention Optimizely users N=(' + str(len(intervention['user_id'].unique())) + ')')"
   ]
  },
  {
   "cell_type": "markdown",
   "metadata": {},
   "source": [
    "# Average Number of Clicks\n",
    "Note: we can to total number of clicks, but we can also subset based on \"event_types\". Here is a comprehensive list of possible event_types."
   ]
  },
  {
   "cell_type": "code",
   "execution_count": 8,
   "metadata": {},
   "outputs": [
    {
     "name": "stdout",
     "output_type": "stream",
     "text": [
      "['https://angelic-bazaar-634.appspot.com/kairx1.html' 'emr_clicks'\n",
      " 'engagement' 'https://angelic-bazaar-634.appspot.com/kairx2.html'\n",
      " 'clicks_on_emr' 'https://angelic-bazaar-634.appspot.com/kairx3.html'\n",
      " 'https://angelic-bazaar-634.appspot.com/kairx4.html'\n",
      " 'hcl_thiazide_click_track' 'svg_clicks' 'close_button_clicks'\n",
      " 'table_clicks']\n"
     ]
    }
   ],
   "source": [
    "c_e = control['event_name'].unique()\n",
    "i_e = control['event_name'].unique()\n",
    "print(i_e)"
   ]
  },
  {
   "cell_type": "markdown",
   "metadata": {},
   "source": [
    "> For the analysis below, we will take the average within each arm, but do not distinguish between any particular event_type."
   ]
  },
  {
   "cell_type": "markdown",
   "metadata": {},
   "source": [
    "### Total"
   ]
  },
  {
   "cell_type": "code",
   "execution_count": 14,
   "metadata": {},
   "outputs": [
    {
     "name": "stdout",
     "output_type": "stream",
     "text": [
      "Control Average Total Clicks: 41.1774193548\n",
      "Intervention Average Total Clicks: 80.4571428571\n"
     ]
    }
   ],
   "source": [
    "control['total_clicks'] = 1\n",
    "intervention['total_clicks'] = 1\n",
    "\n",
    "c_count = pd.DataFrame({'count' : control.groupby(['user_id']).count()['total_clicks']}).reset_index()\n",
    "print('Control Average Total Clicks: ' + str(c_count['count'].mean()))\n",
    "\n",
    "i_count = pd.DataFrame({'count' : intervention.groupby(['user_id']).count()['total_clicks']}).reset_index()\n",
    "print('Intervention Average Total Clicks: ' + str(i_count['count'].mean()))"
   ]
  },
  {
   "cell_type": "markdown",
   "metadata": {},
   "source": [
    "## Inference for Average Total Clicks\n"
   ]
  },
  {
   "cell_type": "code",
   "execution_count": 15,
   "metadata": {},
   "outputs": [
    {
     "name": "stdout",
     "output_type": "stream",
     "text": [
      "count     62.000000\n",
      "mean      41.177419\n",
      "std       56.856023\n",
      "min        1.000000\n",
      "25%       14.250000\n",
      "50%       30.000000\n",
      "75%       52.000000\n",
      "max      328.000000\n",
      "Name: count, dtype: float64\n",
      "count     70.000000\n",
      "mean      80.457143\n",
      "std       67.739631\n",
      "min        1.000000\n",
      "25%       35.000000\n",
      "50%       72.500000\n",
      "75%      105.500000\n",
      "max      322.000000\n",
      "Name: count, dtype: float64\n",
      "T Test results: \n",
      "Ttest_indResult(statistic=-3.5825992792515908, pvalue=0.00047952848494838658)\n"
     ]
    }
   ],
   "source": [
    "import scipy.stats\n",
    "\n",
    "print(c_count['count'].describe())\n",
    "print(i_count['count'].describe())\n",
    "\n",
    "\n",
    "print(\"T Test results: \")\n",
    "print(scipy.stats.ttest_ind(c_count['count'],i_count['count']))\n"
   ]
  },
  {
   "cell_type": "code",
   "execution_count": null,
   "metadata": {},
   "outputs": [],
   "source": []
  }
 ],
 "metadata": {
  "kernelspec": {
   "display_name": "Python 3",
   "language": "python",
   "name": "python3"
  },
  "language_info": {
   "codemirror_mode": {
    "name": "ipython",
    "version": 3
   },
   "file_extension": ".py",
   "mimetype": "text/x-python",
   "name": "python",
   "nbconvert_exporter": "python",
   "pygments_lexer": "ipython3",
   "version": "3.5.2"
  }
 },
 "nbformat": 4,
 "nbformat_minor": 2
}
