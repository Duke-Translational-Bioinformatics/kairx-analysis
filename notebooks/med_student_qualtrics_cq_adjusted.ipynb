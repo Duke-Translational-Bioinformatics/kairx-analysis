{
 "cells": [
  {
   "cell_type": "markdown",
   "metadata": {},
   "source": [
    "# Med Student Qualtrics Results - Clinical Questionaire\n",
    "------\n",
    "The clinical questionaire is comprised of 3 tasks (Diabetes, Hypertension, Depression) and 21 questions. There are several ways to begin analyzing the data set:\n",
    "\n",
    "- **Read-in the data**\n",
    "- Score (Number of correctly answered questions)\n",
    "    - [Overall](#oscore)\n",
    "- [Time-to-Complete](#ttc)\n",
    "- [Individual-Question Comparisons](#iqc)\n"
   ]
  },
  {
   "cell_type": "markdown",
   "metadata": {},
   "source": [
    "## Read-in the data\n",
    "-----\n",
    "Before we begin looking at data, we need to read it in. In this next step, we will read in the data from the clinical questionaire (both control and intervention surveys) as well as some metadata about the survey itself. Notice the two outliers, we'll remove these two observations."
   ]
  },
  {
   "cell_type": "code",
   "execution_count": 7,
   "metadata": {
    "collapsed": false
   },
   "outputs": [
    {
     "data": {
      "text/html": [
       "<div>\n",
       "<table border=\"1\" class=\"dataframe\">\n",
       "  <thead>\n",
       "    <tr style=\"text-align: right;\">\n",
       "      <th></th>\n",
       "      <th>Score-sum</th>\n",
       "      <th>label</th>\n",
       "      <th>Q_TotalDuration</th>\n",
       "      <th>Score</th>\n",
       "    </tr>\n",
       "  </thead>\n",
       "  <tbody>\n",
       "    <tr>\n",
       "      <th>0</th>\n",
       "      <td>21</td>\n",
       "      <td>intervention</td>\n",
       "      <td>1153</td>\n",
       "      <td>21</td>\n",
       "    </tr>\n",
       "    <tr>\n",
       "      <th>1</th>\n",
       "      <td>22</td>\n",
       "      <td>intervention</td>\n",
       "      <td>556</td>\n",
       "      <td>22</td>\n",
       "    </tr>\n",
       "    <tr>\n",
       "      <th>2</th>\n",
       "      <td>22</td>\n",
       "      <td>intervention</td>\n",
       "      <td>869</td>\n",
       "      <td>22</td>\n",
       "    </tr>\n",
       "    <tr>\n",
       "      <th>3</th>\n",
       "      <td>23</td>\n",
       "      <td>intervention</td>\n",
       "      <td>985</td>\n",
       "      <td>23</td>\n",
       "    </tr>\n",
       "    <tr>\n",
       "      <th>4</th>\n",
       "      <td>21</td>\n",
       "      <td>intervention</td>\n",
       "      <td>799</td>\n",
       "      <td>21</td>\n",
       "    </tr>\n",
       "  </tbody>\n",
       "</table>\n",
       "</div>"
      ],
      "text/plain": [
       "   Score-sum         label  Q_TotalDuration  Score\n",
       "0         21  intervention             1153     21\n",
       "1         22  intervention              556     22\n",
       "2         22  intervention              869     22\n",
       "3         23  intervention              985     23\n",
       "4         21  intervention              799     21"
      ]
     },
     "execution_count": 7,
     "metadata": {},
     "output_type": "execute_result"
    }
   ],
   "source": [
    "%matplotlib inline\n",
    "import pandas as pd\n",
    "import json\n",
    "import numpy as np\n",
    "import matplotlib.pyplot as plt\n",
    "from textwrap import wrap\n",
    "\n",
    "cq_control = pd.read_csv(header=1,filepath_or_buffer=open(\"./med_student_materials/qualtrics_data/KaiRx_Clinical_Questionnaire__Control.csv\",\"rb\"))\n",
    "cq_interve = pd.read_csv(header=1,filepath_or_buffer=open(\"./med_student_materials/qualtrics_data/KaiRx_Clinical_Questionnaire__Intervention.csv\",\"rb\"))\n",
    "dd = json.load(open(\"./med_student_materials/qualtrics_data/KaiRx_Clinical_Questionnaire_-_Control.qsf.txt\",\"r\"))\n",
    "#we'll need labels for things so let's go ahead and create them\n",
    "cq_interve['label'] = \"intervention\"\n",
    "cq_control['label'] = \"control\"\n",
    "#We'll need a function to help extract needed metadata\n",
    "final = pd.concat([cq_interve,cq_control])\n",
    "\n",
    "final_df = final[['Score-sum','label','Q_TotalDuration']]\n",
    "final_df_nm = final_df.dropna()\n",
    "final_df_nm['Score'] = final_df_nm['Score-sum']\n",
    "final_df_nm.head()"
   ]
  },
  {
   "cell_type": "markdown",
   "metadata": {},
   "source": [
    "## Score\n",
    "------\n",
    "Each question is worth 1 point, except for 3 multiple choice questions. For these 3 questions, there are 2 correct answers. This leads to a variable whose min is 0 and max is 24. We will regress several variables on this response to explore our hypotheses. First let's take another look at the distribution."
   ]
  },
  {
   "cell_type": "markdown",
   "metadata": {},
   "source": [
    "<a id='oscore'></a>\n",
    "### Overall\n",
    "---------\n",
    "*The overall score has a possible maximum of **24**.*"
   ]
  },
  {
   "cell_type": "code",
   "execution_count": 2,
   "metadata": {
    "collapsed": false
   },
   "outputs": [
    {
     "data": {
      "image/png": "[encoded data removed]",
      "text/plain": [
       "<matplotlib.figure.Figure at 0x7f46812c4e80>"
      ]
     },
     "metadata": {},
     "output_type": "display_data"
    }
   ],
   "source": [
    "#Make a histogram\n",
    "import random\n",
    "import numpy\n",
    "from matplotlib import pyplot\n",
    "\n",
    "x = cq_control['Score-sum']\n",
    "y = cq_interve['Score-sum']\n",
    "\n",
    "bins = numpy.linspace(0, 28, 25)\n",
    "\n",
    "pyplot.hist(x, bins, alpha=0.5, label='Control')\n",
    "pyplot.hist(y, bins, alpha=0.5, label='Intervention')\n",
    "pyplot.legend(loc='upper left')\n",
    "pyplot.show()"
   ]
  },
  {
   "cell_type": "markdown",
   "metadata": {},
   "source": [
    ">Previously, we tested the [unadjusted association](./med_student_qualtrics_cq.ipynb) between treatment and overall score using the Mann-Whitney test. The next leg of our analysis concentrates on testing another hypotheses. Specifically, that there is an interaction between time and the treatment effect. In order to explore this hypothesis, we will now move to a modeling (regression) framework. Specifically, we'll build the following model:\n",
    "\n",
    "$$Y_{overallScore}=\\beta_{0}+x_{treatment}\\beta_{1}+x_{time-to-complete}\\beta_{2}+x_{treatment}x_{time-to-complete}\\beta_{3}$$\n",
    "\n",
    ">This model allows us to test the null hypothesis $H_{0}:\\beta_{3}=0$. This interaction effect let's us test the hypothesis that there is an interaction between time-to-complete and treatment. If significant ($\\alpha 0.05$) level, then we will display the time-to-complete effect within each treatment arms. By treating time as continuous we will have more power to detect a signal (rather than categorizing time)."
   ]
  },
  {
   "cell_type": "markdown",
   "metadata": {
    "collapsed": true
   },
   "source": [
    "<a id='dscore'></a>\n",
    "## Linear Models\n",
    "---------\n",
    "### Unadjusted (Within Modeling Framework)\n",
    "Before we get started, it might be helpful to walk before running, so let's build a simpler model that represents our unadjusted hypothesis and see how that compares with the T-Test test run earlier. To sum it up, here is the first model we will build before getting to the hypothesis of interest:\n",
    "\n",
    "$$Y_{overallScore}=\\beta_{0}+x_{treatement}\\beta_{1}$$"
   ]
  },
  {
   "cell_type": "code",
   "execution_count": 4,
   "metadata": {
    "collapsed": false
   },
   "outputs": [
    {
     "name": "stdout",
     "output_type": "stream",
     "text": [
      "                            OLS Regression Results                            \n",
      "==============================================================================\n",
      "Dep. Variable:                  Score   R-squared:                       0.021\n",
      "Model:                            OLS   Adj. R-squared:                  0.014\n",
      "Method:                 Least Squares   F-statistic:                     2.837\n",
      "Date:                Mon, 15 Aug 2016   Prob (F-statistic):             0.0945\n",
      "Time:                        13:56:44   Log-Likelihood:                -386.74\n",
      "No. Observations:                 132   AIC:                             777.5\n",
      "Df Residuals:                     130   BIC:                             783.2\n",
      "Df Model:                           1                                         \n",
      "Covariance Type:            nonrobust                                         \n",
      "=========================================================================================\n",
      "                            coef    std err          t      P>|t|      [95.0% Conf. Int.]\n",
      "-----------------------------------------------------------------------------------------\n",
      "Intercept                20.3538      0.566     35.942      0.000        19.233    21.474\n",
      "label[T.intervention]    -1.3389      0.795     -1.684      0.094        -2.911     0.234\n",
      "==============================================================================\n",
      "Omnibus:                       97.208   Durbin-Watson:                   1.680\n",
      "Prob(Omnibus):                  0.000   Jarque-Bera (JB):              557.214\n",
      "Skew:                          -2.745   Prob(JB):                    1.01e-121\n",
      "Kurtosis:                      11.437   Cond. No.                         2.64\n",
      "==============================================================================\n",
      "\n",
      "Warnings:\n",
      "[1] Standard Errors assume that the covariance matrix of the errors is correctly specified.\n"
     ]
    }
   ],
   "source": [
    "import statsmodels.api as sm\n",
    "from patsy import dmatrices\n",
    "\n",
    "y, X = dmatrices('Score ~ label',data=final_df_nm, return_type='dataframe')\n",
    "\n",
    "# Fit and summarize OLS model\n",
    "mod = sm.OLS(y, X)\n",
    "res = mod.fit()\n",
    "print(res.summary())"
   ]
  },
  {
   "cell_type": "markdown",
   "metadata": {},
   "source": [
    "#### Results\n",
    "------------\n",
    ">In this exercise, we get the same results as previously seen on the [unadjusted association](./med_student_qualtrics_cq.ipynb). The only difference, is that we've now framed our t-test within a modeling framework. Notice that we get the same inference by looking at the effect label[T.intervention] and the pvalue (i.e. P>|t| = 0.094 for this effect). This says that we don't have enough evidence to reject the null hypothesis of the effect being different from 0. Of course, in this iteration we really want to 'control' for time-to-complete. So we'll look into that in the next analysis."
   ]
  },
  {
   "cell_type": "markdown",
   "metadata": {},
   "source": [
    "### Adjusted (for time-to-complete)\n",
    "Now, we'll build the following model:\n",
    "$$Y_{overallScore}=\\beta_{0}+x_{treatment}\\beta_{1}+x_{time-to-complete}\\beta_{2}$$"
   ]
  },
  {
   "cell_type": "code",
   "execution_count": 5,
   "metadata": {
    "collapsed": false
   },
   "outputs": [
    {
     "name": "stdout",
     "output_type": "stream",
     "text": [
      "                            OLS Regression Results                            \n",
      "==============================================================================\n",
      "Dep. Variable:                  Score   R-squared:                       0.024\n",
      "Model:                            OLS   Adj. R-squared:                  0.009\n",
      "Method:                 Least Squares   F-statistic:                     1.586\n",
      "Date:                Mon, 15 Aug 2016   Prob (F-statistic):              0.209\n",
      "Time:                        13:56:50   Log-Likelihood:                -386.56\n",
      "No. Observations:                 132   AIC:                             779.1\n",
      "Df Residuals:                     129   BIC:                             787.8\n",
      "Df Model:                           2                                         \n",
      "Covariance Type:            nonrobust                                         \n",
      "=========================================================================================\n",
      "                            coef    std err          t      P>|t|      [95.0% Conf. Int.]\n",
      "-----------------------------------------------------------------------------------------\n",
      "Intercept                20.2489      0.595     34.035      0.000        19.072    21.426\n",
      "label[T.intervention]    -1.3523      0.797     -1.696      0.092        -2.930     0.225\n",
      "Q_TotalDuration           0.0001      0.000      0.590      0.556        -0.000     0.000\n",
      "==============================================================================\n",
      "Omnibus:                       95.905   Durbin-Watson:                   1.650\n",
      "Prob(Omnibus):                  0.000   Jarque-Bera (JB):              536.141\n",
      "Skew:                          -2.710   Prob(JB):                    3.79e-117\n",
      "Kurtosis:                      11.253   Cond. No.                     5.70e+03\n",
      "==============================================================================\n",
      "\n",
      "Warnings:\n",
      "[1] Standard Errors assume that the covariance matrix of the errors is correctly specified.\n",
      "[2] The condition number is large, 5.7e+03. This might indicate that there are\n",
      "strong multicollinearity or other numerical problems.\n"
     ]
    }
   ],
   "source": [
    "y, X = dmatrices('Score ~ label + Q_TotalDuration',data=final_df_nm, return_type='dataframe')\n",
    "\n",
    "# Fit and summarize OLS model\n",
    "mod = sm.OLS(y, X)\n",
    "res = mod.fit()\n",
    "print(res.summary())"
   ]
  },
  {
   "cell_type": "markdown",
   "metadata": {},
   "source": [
    "#### Results\n",
    "----------\n",
    "Now that we've adjusted for time-to-complete, notice the line `label[T.intervention]`. The pvalue barely changed (0.092). This means that when we look at individuals with similar time-to-complete numbers (say 10 mins) when we compare the treatment and control, the scores still are **not significantly** different. Now, this could be a power issue (i.e. if we collected more data, we'd see a difference). But the difference that we'd see would point in a direction opposite our hypothesis. This data seems to suggest that the intervention gets **lower overall scores**. Note the effect (-1.3523)."
   ]
  },
  {
   "cell_type": "markdown",
   "metadata": {},
   "source": [
    "### Interaction: Time-to-complete and Treatment\n",
    "Finally, does the effect of treatment behave differently for individuals who finish at different times? We'll build the model originally described:\n",
    "$$Y_{overallScore}=\\beta_{0}+x_{treatment}\\beta_{1}+x_{time-to-complete}\\beta_{2}+x_{treatment}x_{time-to-complete}\\beta_{3}$$\n"
   ]
  },
  {
   "cell_type": "code",
   "execution_count": 6,
   "metadata": {
    "collapsed": false
   },
   "outputs": [
    {
     "name": "stdout",
     "output_type": "stream",
     "text": [
      "                            OLS Regression Results                            \n",
      "==============================================================================\n",
      "Dep. Variable:                  Score   R-squared:                       0.026\n",
      "Model:                            OLS   Adj. R-squared:                  0.004\n",
      "Method:                 Least Squares   F-statistic:                     1.158\n",
      "Date:                Mon, 15 Aug 2016   Prob (F-statistic):              0.328\n",
      "Time:                        13:56:54   Log-Likelihood:                -386.40\n",
      "No. Observations:                 132   AIC:                             780.8\n",
      "Df Residuals:                     128   BIC:                             792.3\n",
      "Df Model:                           3                                         \n",
      "Covariance Type:            nonrobust                                         \n",
      "=========================================================================================================\n",
      "                                            coef    std err          t      P>|t|      [95.0% Conf. Int.]\n",
      "---------------------------------------------------------------------------------------------------------\n",
      "Intercept                                20.3875      0.645     31.617      0.000        19.112    21.663\n",
      "label[T.intervention]                    -1.5738      0.890     -1.768      0.079        -3.335     0.187\n",
      "Q_TotalDuration                       -3.372e-05      0.000     -0.111      0.912        -0.001     0.001\n",
      "label[T.intervention]:Q_TotalDuration     0.0002      0.000      0.566      0.572        -0.001     0.001\n",
      "==============================================================================\n",
      "Omnibus:                       96.903   Durbin-Watson:                   1.676\n",
      "Prob(Omnibus):                  0.000   Jarque-Bera (JB):              555.613\n",
      "Skew:                          -2.732   Prob(JB):                    2.24e-121\n",
      "Kurtosis:                      11.435   Cond. No.                     7.76e+03\n",
      "==============================================================================\n",
      "\n",
      "Warnings:\n",
      "[1] Standard Errors assume that the covariance matrix of the errors is correctly specified.\n",
      "[2] The condition number is large, 7.76e+03. This might indicate that there are\n",
      "strong multicollinearity or other numerical problems.\n"
     ]
    }
   ],
   "source": [
    "y, X = dmatrices('Score ~ label + Q_TotalDuration + label*Q_TotalDuration',data=final_df_nm, return_type='dataframe')\n",
    "\n",
    "# Fit and summarize OLS model\n",
    "mod = sm.OLS(y, X)\n",
    "res = mod.fit()\n",
    "print(res.summary())"
   ]
  },
  {
   "cell_type": "markdown",
   "metadata": {},
   "source": [
    "#### Results\n",
    "--------\n",
    ">To get the results for this hypothesis, we need to look at the line `label[T.intervention]:Q_TotalDuration` - this is the interaction effect and tests if there is a 'differential treatment effect' for different levels of time-to-complete. Because the pvalue is > 0.05 (i.e. 0.566), we do not find evidence to suggest a 'differential treatment effect'."
   ]
  },
  {
   "cell_type": "markdown",
   "metadata": {},
   "source": [
    "## Nonlinear Models?\n",
    "-----\n",
    "In our previous models, we assumed a linear relationship. Does this make sense? Let's visually explore these relationships.\n"
   ]
  },
  {
   "cell_type": "code",
   "execution_count": 13,
   "metadata": {
    "collapsed": false
   },
   "outputs": [
    {
     "data": {
      "text/plain": [
       "<matplotlib.legend.Legend at 0x7f464e639f28>"
      ]
     },
     "execution_count": 13,
     "metadata": {},
     "output_type": "execute_result"
    },
    {
     "data": {
      "image/png": "[encoded data removed]",
      "text/plain": [
       "<matplotlib.figure.Figure at 0x7f4657e94710>"
      ]
     },
     "metadata": {},
     "output_type": "display_data"
    }
   ],
   "source": [
    "final_df_nm_no = final_df_nm[final_df_nm['Q_TotalDuration'] < 10000]\n",
    "colors = ['red' if x=='intervention' else 'green' for x in final_df_nm_no['label']]\n",
    "plt.scatter(final_df_nm_no['Q_TotalDuration'],final_df_nm_no['Score'],color=colors, alpha=0.5)\n",
    "import matplotlib.patches as mpatches\n",
    "classes = ['intervention','control']\n",
    "class_colours = ['r','g']\n",
    "recs = []\n",
    "for i in range(0,len(class_colours)):\n",
    "    recs.append(mpatches.Rectangle((0,0),1,1,fc=class_colours[i]))\n",
    "plt.legend(recs,classes,loc=4)"
   ]
  },
  {
   "cell_type": "markdown",
   "metadata": {},
   "source": [
    "[Return to Main Notebook](main_med_student.ipynb)"
   ]
  }
 ],
 "metadata": {
  "kernelspec": {
   "display_name": "Python 3",
   "language": "python",
   "name": "python3"
  },
  "language_info": {
   "codemirror_mode": {
    "name": "ipython",
    "version": 3
   },
   "file_extension": ".py",
   "mimetype": "text/x-python",
   "name": "python",
   "nbconvert_exporter": "python",
   "pygments_lexer": "ipython3",
   "version": "3.5.1"
  },
  "widgets": {
   "state": {},
   "version": "1.1.2"
  }
 },
 "nbformat": 4,
 "nbformat_minor": 0
}
