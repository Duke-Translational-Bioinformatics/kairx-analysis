{
 "cells": [
  {
   "cell_type": "markdown",
   "metadata": {},
   "source": [
    "# Med Student Qualtrics Results - Usability Questionaire\n",
    "-----\n",
    "The clinical questionaire is comprised of 3 tasks (Diabetes, Hypertension, Depression) and 21 questions. There are several ways to begin analyzing the data set:\n",
    "\n",
    "- [SUS Composite Scoring Difference](#sus)\n",
    "- [NASA-TLX Composite Scoring Difference](#nasa)\n",
    "- [Individual-Question Comparisons](#iqc)"
   ]
  },
  {
   "cell_type": "markdown",
   "metadata": {},
   "source": [
    "<a id='sus'></a>\n",
    "### SUS Composite Scoring Difference\n",
    "------\n",
    "to-be-completed"
   ]
  },
  {
   "cell_type": "markdown",
   "metadata": {},
   "source": [
    "<a id='nasa'></a>\n",
    "### NASA-TLX Composite Scoring Difference\n",
    "-------\n",
    "to-be-completed"
   ]
  },
  {
   "cell_type": "markdown",
   "metadata": {},
   "source": [
    "<a id='iqc'></a>\n",
    "### Individual-Question Comparisons\n",
    "--------\n",
    "There are 3 tasks (Ease of Use, Cognitive Workload, and User Satisfaction) and 18 questions:\n",
    "\n",
    "- Ease of Use\n",
    "    - [I think that I would like to use this application frequently.](#e1)\n",
    "    - [I found the application unnecessarily complex.](#e2)\n",
    "    - [I thought the application was easy to use.](#e3)\n",
    "    - [I think that I would need the support of a technical person](#e4)\n",
    "    - [I found the various functions in the application were well integrated.](#e5)\n",
    "    - [I thought there was too much inconsistency in this application.](#e6)\n",
    "    - [I would imagine that most people would learn to use this application very quickly.](#e7)\n",
    "    - [I found the application very cumbersome to use.](#e8)\n",
    "    - [I felt very confident using the application.](#e9)\n",
    "    - [I needed to learn a lot of things before I could get going with this application.](#e10)\n",
    "- Cognitive Workload\n",
    "    - [How mentally demanding was the task?](#c1)\n",
    "    - [How much time pressure did you feel?](#c2)\n",
    "    - [How successful were you in accomplishing what you were asked to do?](#c3)\n",
    "    - [How hard did you have to work to accomplish your level of performance?](#c4)\n",
    "    - [How insecure, discouraged, irritated, stressed, and annoyed were you?](#c5)\n",
    "- Satisfaction\n",
    "    - [I believe this medication display would help improve my ability](#s1)\n",
    "    - [I believe this medication display would aid me in providing a better treatment](#s2)\n",
    "    - [I believe this medication display would improve patient outcomes.](#s3)"
   ]
  },
  {
   "cell_type": "code",
   "execution_count": null,
   "metadata": {
    "collapsed": true
   },
   "outputs": [],
   "source": []
  }
 ],
 "metadata": {
  "kernelspec": {
   "display_name": "Python 3",
   "language": "python",
   "name": "python3"
  },
  "language_info": {
   "codemirror_mode": {
    "name": "ipython",
    "version": 3
   },
   "file_extension": ".py",
   "mimetype": "text/x-python",
   "name": "python",
   "nbconvert_exporter": "python",
   "pygments_lexer": "ipython3",
   "version": "3.5.1"
  },
  "widgets": {
   "state": {},
   "version": "1.1.2"
  }
 },
 "nbformat": 4,
 "nbformat_minor": 0
}
